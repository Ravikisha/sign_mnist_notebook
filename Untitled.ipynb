{
 "cells": [
  {
   "cell_type": "code",
   "execution_count": 62,
   "metadata": {},
   "outputs": [],
   "source": [
    "import matplotlib.pyplot as plt\n",
    "import numpy as np\n",
    "import pandas as pd\n",
    "import numpy as np\n",
    "import pandas as pd \n",
    "import matplotlib.pyplot as plt \n",
    "import seaborn as sns;\n",
    "import random\n",
    "import cv2\n",
    "from PIL import Image\n",
    "import tensorflow as tf\n",
    "from tensorflow import keras\n",
    "from keras.preprocessing.image import load_img\n",
    "import warnings\n",
    "from keras.preprocessing.image import img_to_array\n",
    "from keras.preprocessing.image import array_to_img\n",
    "from keras.preprocessing.image import ImageDataGenerator\n",
    "from tensorflow.keras import Sequential\n",
    "from tensorflow.keras.layers import Flatten, Dense,BatchNormalization,Dropout,Input\n",
    "from keras.models import Sequential, Model\n",
    "from keras.layers import Conv2D\n",
    "from tensorflow.keras import datasets, layers, models\n",
    "from keras.layers import Input, Conv2D, MaxPooling2D, UpSampling2D, concatenate, Conv2DTranspose, BatchNormalization, Dropout, Lambda\n",
    "from sklearn.metrics import plot_confusion_matrix ,classification_report\n",
    "from sklearn.metrics import accuracy_score, precision_score,recall_score,f1_score"
   ]
  },
  {
   "cell_type": "code",
   "execution_count": 3,
   "metadata": {},
   "outputs": [],
   "source": [
    "df = pd.read_csv('./sign_mnist_train.csv')"
   ]
  },
  {
   "cell_type": "code",
   "execution_count": 4,
   "metadata": {},
   "outputs": [
    {
     "data": {
      "text/html": [
       "<div>\n",
       "<style scoped>\n",
       "    .dataframe tbody tr th:only-of-type {\n",
       "        vertical-align: middle;\n",
       "    }\n",
       "\n",
       "    .dataframe tbody tr th {\n",
       "        vertical-align: top;\n",
       "    }\n",
       "\n",
       "    .dataframe thead th {\n",
       "        text-align: right;\n",
       "    }\n",
       "</style>\n",
       "<table border=\"1\" class=\"dataframe\">\n",
       "  <thead>\n",
       "    <tr style=\"text-align: right;\">\n",
       "      <th></th>\n",
       "      <th>label</th>\n",
       "      <th>pixel1</th>\n",
       "      <th>pixel2</th>\n",
       "      <th>pixel3</th>\n",
       "      <th>pixel4</th>\n",
       "      <th>pixel5</th>\n",
       "      <th>pixel6</th>\n",
       "      <th>pixel7</th>\n",
       "      <th>pixel8</th>\n",
       "      <th>pixel9</th>\n",
       "      <th>...</th>\n",
       "      <th>pixel775</th>\n",
       "      <th>pixel776</th>\n",
       "      <th>pixel777</th>\n",
       "      <th>pixel778</th>\n",
       "      <th>pixel779</th>\n",
       "      <th>pixel780</th>\n",
       "      <th>pixel781</th>\n",
       "      <th>pixel782</th>\n",
       "      <th>pixel783</th>\n",
       "      <th>pixel784</th>\n",
       "    </tr>\n",
       "  </thead>\n",
       "  <tbody>\n",
       "    <tr>\n",
       "      <th>0</th>\n",
       "      <td>3</td>\n",
       "      <td>107</td>\n",
       "      <td>118</td>\n",
       "      <td>127</td>\n",
       "      <td>134</td>\n",
       "      <td>139</td>\n",
       "      <td>143</td>\n",
       "      <td>146</td>\n",
       "      <td>150</td>\n",
       "      <td>153</td>\n",
       "      <td>...</td>\n",
       "      <td>207</td>\n",
       "      <td>207</td>\n",
       "      <td>207</td>\n",
       "      <td>207</td>\n",
       "      <td>206</td>\n",
       "      <td>206</td>\n",
       "      <td>206</td>\n",
       "      <td>204</td>\n",
       "      <td>203</td>\n",
       "      <td>202</td>\n",
       "    </tr>\n",
       "    <tr>\n",
       "      <th>1</th>\n",
       "      <td>6</td>\n",
       "      <td>155</td>\n",
       "      <td>157</td>\n",
       "      <td>156</td>\n",
       "      <td>156</td>\n",
       "      <td>156</td>\n",
       "      <td>157</td>\n",
       "      <td>156</td>\n",
       "      <td>158</td>\n",
       "      <td>158</td>\n",
       "      <td>...</td>\n",
       "      <td>69</td>\n",
       "      <td>149</td>\n",
       "      <td>128</td>\n",
       "      <td>87</td>\n",
       "      <td>94</td>\n",
       "      <td>163</td>\n",
       "      <td>175</td>\n",
       "      <td>103</td>\n",
       "      <td>135</td>\n",
       "      <td>149</td>\n",
       "    </tr>\n",
       "    <tr>\n",
       "      <th>2</th>\n",
       "      <td>2</td>\n",
       "      <td>187</td>\n",
       "      <td>188</td>\n",
       "      <td>188</td>\n",
       "      <td>187</td>\n",
       "      <td>187</td>\n",
       "      <td>186</td>\n",
       "      <td>187</td>\n",
       "      <td>188</td>\n",
       "      <td>187</td>\n",
       "      <td>...</td>\n",
       "      <td>202</td>\n",
       "      <td>201</td>\n",
       "      <td>200</td>\n",
       "      <td>199</td>\n",
       "      <td>198</td>\n",
       "      <td>199</td>\n",
       "      <td>198</td>\n",
       "      <td>195</td>\n",
       "      <td>194</td>\n",
       "      <td>195</td>\n",
       "    </tr>\n",
       "    <tr>\n",
       "      <th>3</th>\n",
       "      <td>2</td>\n",
       "      <td>211</td>\n",
       "      <td>211</td>\n",
       "      <td>212</td>\n",
       "      <td>212</td>\n",
       "      <td>211</td>\n",
       "      <td>210</td>\n",
       "      <td>211</td>\n",
       "      <td>210</td>\n",
       "      <td>210</td>\n",
       "      <td>...</td>\n",
       "      <td>235</td>\n",
       "      <td>234</td>\n",
       "      <td>233</td>\n",
       "      <td>231</td>\n",
       "      <td>230</td>\n",
       "      <td>226</td>\n",
       "      <td>225</td>\n",
       "      <td>222</td>\n",
       "      <td>229</td>\n",
       "      <td>163</td>\n",
       "    </tr>\n",
       "    <tr>\n",
       "      <th>4</th>\n",
       "      <td>13</td>\n",
       "      <td>164</td>\n",
       "      <td>167</td>\n",
       "      <td>170</td>\n",
       "      <td>172</td>\n",
       "      <td>176</td>\n",
       "      <td>179</td>\n",
       "      <td>180</td>\n",
       "      <td>184</td>\n",
       "      <td>185</td>\n",
       "      <td>...</td>\n",
       "      <td>92</td>\n",
       "      <td>105</td>\n",
       "      <td>105</td>\n",
       "      <td>108</td>\n",
       "      <td>133</td>\n",
       "      <td>163</td>\n",
       "      <td>157</td>\n",
       "      <td>163</td>\n",
       "      <td>164</td>\n",
       "      <td>179</td>\n",
       "    </tr>\n",
       "  </tbody>\n",
       "</table>\n",
       "<p>5 rows × 785 columns</p>\n",
       "</div>"
      ],
      "text/plain": [
       "   label  pixel1  pixel2  pixel3  pixel4  pixel5  pixel6  pixel7  pixel8  \\\n",
       "0      3     107     118     127     134     139     143     146     150   \n",
       "1      6     155     157     156     156     156     157     156     158   \n",
       "2      2     187     188     188     187     187     186     187     188   \n",
       "3      2     211     211     212     212     211     210     211     210   \n",
       "4     13     164     167     170     172     176     179     180     184   \n",
       "\n",
       "   pixel9  ...  pixel775  pixel776  pixel777  pixel778  pixel779  pixel780  \\\n",
       "0     153  ...       207       207       207       207       206       206   \n",
       "1     158  ...        69       149       128        87        94       163   \n",
       "2     187  ...       202       201       200       199       198       199   \n",
       "3     210  ...       235       234       233       231       230       226   \n",
       "4     185  ...        92       105       105       108       133       163   \n",
       "\n",
       "   pixel781  pixel782  pixel783  pixel784  \n",
       "0       206       204       203       202  \n",
       "1       175       103       135       149  \n",
       "2       198       195       194       195  \n",
       "3       225       222       229       163  \n",
       "4       157       163       164       179  \n",
       "\n",
       "[5 rows x 785 columns]"
      ]
     },
     "execution_count": 4,
     "metadata": {},
     "output_type": "execute_result"
    }
   ],
   "source": [
    "df.head()"
   ]
  },
  {
   "cell_type": "code",
   "execution_count": 5,
   "metadata": {},
   "outputs": [],
   "source": [
    "labels = \"ABCDEFGHIKLMNOPQRSTUVWXY\"\n",
    "counts = [0,1, 2, 3, 4, 5, 6, 7, 8, 10, 11, 12, 13, 14, 15, 16, 17, 18, 19, 20, 21, 22, 23, 24, 25]\n",
    "mapping = dict(zip(counts, labels))"
   ]
  },
  {
   "cell_type": "code",
   "execution_count": 6,
   "metadata": {},
   "outputs": [],
   "source": [
    "df['label'] = df['label'].map(mapping)"
   ]
  },
  {
   "cell_type": "code",
   "execution_count": 7,
   "metadata": {},
   "outputs": [
    {
     "data": {
      "text/plain": [
       "0        D\n",
       "1        G\n",
       "2        C\n",
       "3        C\n",
       "4        N\n",
       "        ..\n",
       "27450    N\n",
       "27451    X\n",
       "27452    S\n",
       "27453    R\n",
       "27454    X\n",
       "Name: label, Length: 27455, dtype: object"
      ]
     },
     "execution_count": 7,
     "metadata": {},
     "output_type": "execute_result"
    }
   ],
   "source": [
    "df['label']"
   ]
  },
  {
   "cell_type": "code",
   "execution_count": 8,
   "metadata": {},
   "outputs": [
    {
     "name": "stdout",
     "output_type": "stream",
     "text": [
      "Sample has a label of:  D\n"
     ]
    }
   ],
   "source": [
    "sample = df.drop(\"label\",axis=1).values[0]\n",
    "label = df['label'].values[0]\n",
    "\n",
    "print(\"Sample has a label of: \",label)"
   ]
  },
  {
   "cell_type": "code",
   "execution_count": 9,
   "metadata": {},
   "outputs": [
    {
     "data": {
      "text/plain": [
       "(28, 28)"
      ]
     },
     "execution_count": 9,
     "metadata": {},
     "output_type": "execute_result"
    }
   ],
   "source": [
    "sample.reshape(28,28).shape"
   ]
  },
  {
   "cell_type": "code",
   "execution_count": 10,
   "metadata": {},
   "outputs": [
    {
     "data": {
      "image/png": "[encoded data removed]",
      "text/plain": [
       "<Figure size 432x288 with 1 Axes>"
      ]
     },
     "metadata": {
      "needs_background": "light"
     },
     "output_type": "display_data"
    }
   ],
   "source": [
    "plt.title(f\"Label is: {label}\")\n",
    "plt.imshow(sample.reshape(28,28),cmap='binary')\n",
    "plt.show()"
   ]
  },
  {
   "cell_type": "code",
   "execution_count": 11,
   "metadata": {},
   "outputs": [],
   "source": [
    "def plot_images(df,n,label):\n",
    "    for i in range(n**2):\n",
    "        random_value = np.random.randint(len(df[label]))\n",
    "        if random_value not in [9, 25]:\n",
    "            plt.subplot(n, n, i+1)\n",
    "            X = df.loc[random_value].drop('label').values.astype(\"int\").reshape(28,28)\n",
    "            plt.imshow(X, cmap='binary')\n",
    "            plt.title(str(df[label][random_value]),color=\"green\", fontsize=28)\n",
    "            plt.axis(\"off\")\n",
    "            plt.subplots_adjust(left=1, right=4.5, bottom=.5, top=2.5)\n",
    "    plt.figure(figsize=(5,5))\n",
    "    plt.show()"
   ]
  },
  {
   "cell_type": "code",
   "execution_count": 12,
   "metadata": {},
   "outputs": [],
   "source": [
    "from sklearn.model_selection import train_test_split\n",
    "\n",
    "X = df.drop('label',axis=1).values\n",
    "y = df['label'].values\n",
    "\n",
    "X_train,X_test,y_train,y_test = train_test_split(X,y,random_state=48,test_size=0.25)"
   ]
  },
  {
   "cell_type": "code",
   "execution_count": 13,
   "metadata": {},
   "outputs": [
    {
     "data": {
      "text/plain": [
       "RandomForestClassifier()"
      ]
     },
     "execution_count": 13,
     "metadata": {},
     "output_type": "execute_result"
    }
   ],
   "source": [
    "from sklearn.ensemble import RandomForestClassifier\n",
    "\n",
    "clf = RandomForestClassifier()\n",
    "clf.fit(X_train,y_train)"
   ]
  },
  {
   "cell_type": "code",
   "execution_count": 38,
   "metadata": {},
   "outputs": [
    {
     "data": {
      "text/plain": [
       "array([133, 135, 135, 136, 136, 136, 136, 135, 135, 135, 135, 132, 134,\n",
       "       133, 132, 131, 129, 129, 129, 129, 126, 125, 124, 123, 123, 121,\n",
       "       117, 116, 134, 136, 137, 137, 138, 137, 137, 137, 137, 136, 136,\n",
       "       138, 117, 135, 134, 132, 131, 130, 129, 128, 128, 126, 125, 123,\n",
       "       122, 120, 117, 115, 136, 138, 138, 138, 139, 138, 138, 138, 138,\n",
       "       136, 144, 149,  90, 135, 134, 133, 133, 132, 131, 129, 129, 128,\n",
       "       126, 124, 123, 121, 119, 117, 137, 138, 140, 140, 140, 140, 139,\n",
       "       138, 140, 134, 161, 131,  87, 140, 133, 133, 133, 132, 132, 130,\n",
       "       129, 128, 127, 125, 123, 122, 121, 119, 138, 139, 141, 141, 142,\n",
       "       142, 141, 141, 140, 137, 175, 114,  91, 144, 135, 135, 135, 133,\n",
       "       133, 131, 130, 131, 129, 126, 124, 123, 122, 121, 140, 141, 142,\n",
       "       142, 143, 143, 141, 142, 140, 144, 177, 102, 106, 143, 137, 138,\n",
       "       136, 134, 134, 132, 131, 131, 130, 128, 125, 123, 123, 121, 142,\n",
       "       143, 144, 144, 144, 144, 143, 144, 139, 155, 169,  89, 114, 153,\n",
       "       132, 128, 136, 136, 135, 133, 132, 131, 130, 129, 126, 124, 123,\n",
       "       121, 143, 144, 145, 145, 145, 145, 145, 146, 140, 168, 167,  94,\n",
       "       125, 180, 135,  97, 135, 132, 136, 136, 134, 132, 132, 129, 127,\n",
       "       124, 123, 122, 143, 145, 146, 147, 146, 146, 147, 147, 142, 175,\n",
       "       162,  99, 157, 183, 138, 111, 151, 113, 105, 127, 128, 126,  99,\n",
       "       128, 129, 126, 124, 123, 145, 147, 148, 148, 149, 148, 148, 146,\n",
       "       146, 174, 151, 114, 175, 184, 131, 121, 152, 126,  74,  95, 115,\n",
       "       128,  67, 124, 131, 127, 126, 124, 146, 149, 149, 148, 149, 149,\n",
       "       150, 145, 159, 165, 152, 149, 161, 183, 126, 129, 153, 120,  85,\n",
       "       116, 120, 148,  66, 118, 134, 127, 125, 125, 148, 149, 149, 149,\n",
       "       149, 151, 149, 149, 174, 140, 156, 146, 163, 175, 109, 134, 157,\n",
       "       109, 110, 119, 116, 154,  97, 104, 136, 128, 127, 125, 148, 149,\n",
       "       150, 150, 150, 152, 148, 164, 178, 113, 136, 134, 141, 158,  92,\n",
       "       142, 150, 105, 129, 103, 104, 148, 124,  85, 124, 132, 129, 128,\n",
       "       150, 150, 151, 152, 151, 152, 147, 180, 186, 105, 106, 112, 125,\n",
       "       148,  93, 158, 135,  98, 138,  90,  91, 153, 117,  75, 123, 133,\n",
       "       130, 129, 150, 151, 152, 153, 154, 154, 152, 194, 184, 110,  94,\n",
       "        97, 116, 146, 111, 163, 119,  96, 130,  76, 126, 149,  94,  87,\n",
       "       138, 131, 131, 128, 151, 152, 154, 154, 155, 152, 162, 198, 176,\n",
       "       106,  87, 100,  87, 104, 139, 157,  86, 119, 119, 110, 151, 112,\n",
       "        73, 114, 138, 132, 131, 129, 153, 154, 155, 155, 156, 151, 173,\n",
       "       201, 171, 102,  89,  99,  84, 113, 157, 143, 118, 142, 125, 133,\n",
       "       131,  81,  80, 139, 135, 133, 132, 130, 150, 152, 154, 154, 156,\n",
       "       150, 181, 201, 162, 115, 103, 106, 126, 154, 163, 158, 160, 141,\n",
       "       123, 116, 121,  67,  97, 142, 134, 133, 132, 130, 153, 154, 154,\n",
       "       154, 156, 152, 185, 197, 161, 130, 106, 122, 169, 174, 176, 167,\n",
       "       144, 130, 122,  96, 101,  69, 119, 139, 134, 134, 132, 130, 154,\n",
       "       155, 155, 155, 157, 152, 182, 196, 167, 136, 122, 133, 179, 179,\n",
       "       179, 159, 142, 130, 107,  82,  70, 103, 142, 136, 135, 134, 135,\n",
       "       139, 154, 154, 155, 155, 157, 153, 187, 191, 164, 143, 135, 151,\n",
       "       181, 176, 169, 145, 130, 117,  88,  63,  93, 143, 138, 139, 141,\n",
       "       146, 129, 131, 153, 153, 155, 155, 155, 157, 190, 176, 161, 148,\n",
       "       143, 163, 172, 159, 152, 132, 113,  95,  67,  85, 141, 143, 147,\n",
       "       151, 142, 124, 111, 101, 157, 159, 160, 162, 161, 163, 185, 169,\n",
       "       167, 156, 150, 162, 155, 141, 128, 114, 101,  76,  78, 144, 155,\n",
       "       151, 139, 128, 117, 122, 109,  94, 127, 127, 127, 129, 121, 146,\n",
       "       193, 173, 172, 159, 153, 160, 145, 124, 107, 105,  84,  60, 138,\n",
       "       169, 150, 128, 122, 125, 110, 112, 135,  82,  69,  68,  70,  74,\n",
       "        58, 127, 206, 179, 171, 160, 156, 156, 138, 104,  96,  84,  76,\n",
       "       137, 172, 149, 150, 101, 137, 134, 105,  77, 127, 109,  80,  79,\n",
       "        77,  80,  65, 146, 206, 179, 169, 164, 151, 150, 121,  90,  80,\n",
       "        82, 162, 173, 154, 141, 143, 102, 110, 147, 112,  67, 103, 121,\n",
       "        83,  84,  82,  83,  64, 156, 200, 171, 166, 163, 142, 142, 109,\n",
       "        82,  66, 151, 169, 148, 165, 146, 125, 112,  73, 133, 129,  71,\n",
       "        81, 111,  77,  76,  79,  81,  67, 165, 193, 163, 163, 158, 132,\n",
       "       132, 100,  68,  91, 178, 139, 157, 166, 130, 132, 107,  65,  99,\n",
       "       135,  86,  63,  95], dtype=int64)"
      ]
     },
     "execution_count": 38,
     "metadata": {},
     "output_type": "execute_result"
    }
   ],
   "source": [
    "sample = X_test[0]\n",
    "sample"
   ]
  },
  {
   "cell_type": "code",
   "execution_count": 15,
   "metadata": {},
   "outputs": [
    {
     "data": {
      "text/plain": [
       "array(['I'], dtype=object)"
      ]
     },
     "execution_count": 15,
     "metadata": {},
     "output_type": "execute_result"
    }
   ],
   "source": [
    "clf.predict([sample])"
   ]
  },
  {
   "cell_type": "code",
   "execution_count": 16,
   "metadata": {},
   "outputs": [
    {
     "data": {
      "text/plain": [
       "'I'"
      ]
     },
     "execution_count": 16,
     "metadata": {},
     "output_type": "execute_result"
    }
   ],
   "source": [
    "y_test[0]"
   ]
  },
  {
   "cell_type": "code",
   "execution_count": 17,
   "metadata": {},
   "outputs": [],
   "source": [
    "def plot_image(data,label):\n",
    "    image =  data.reshape(28,28)\n",
    "    plt.imshow(image,cmap='binary')\n",
    "    plt.title(f\"{label}\")\n",
    "    plt.show()"
   ]
  },
  {
   "cell_type": "code",
   "execution_count": 18,
   "metadata": {},
   "outputs": [
    {
     "data": {
      "image/png": "[encoded data removed]",
      "text/plain": [
       "<Figure size 432x288 with 1 Axes>"
      ]
     },
     "metadata": {
      "needs_background": "light"
     },
     "output_type": "display_data"
    }
   ],
   "source": [
    "plot_image(sample,y_test[0])"
   ]
  },
  {
   "cell_type": "code",
   "execution_count": 19,
   "metadata": {},
   "outputs": [
    {
     "data": {
      "text/plain": [
       "1.0"
      ]
     },
     "execution_count": 19,
     "metadata": {},
     "output_type": "execute_result"
    }
   ],
   "source": [
    "1.0"
   ]
  },
  {
   "cell_type": "code",
   "execution_count": 20,
   "metadata": {},
   "outputs": [
    {
     "data": {
      "text/plain": [
       "1.0"
      ]
     },
     "execution_count": 20,
     "metadata": {},
     "output_type": "execute_result"
    }
   ],
   "source": [
    "clf.score(X_train,y_train)"
   ]
  },
  {
   "cell_type": "code",
   "execution_count": 21,
   "metadata": {},
   "outputs": [
    {
     "data": {
      "text/plain": [
       "0.9967948717948718"
      ]
     },
     "execution_count": 21,
     "metadata": {},
     "output_type": "execute_result"
    }
   ],
   "source": [
    "clf.score(X_test,y_test)"
   ]
  },
  {
   "cell_type": "code",
   "execution_count": 43,
   "metadata": {},
   "outputs": [
    {
     "data": {
      "image/png": "[encoded data removed]",
      "text/plain": [
       "<Figure size 432x288 with 1 Axes>"
      ]
     },
     "metadata": {
      "needs_background": "light"
     },
     "output_type": "display_data"
    }
   ],
   "source": [
    "plot_image(X_test[12],y_test[12])"
   ]
  },
  {
   "cell_type": "code",
   "execution_count": 23,
   "metadata": {},
   "outputs": [
    {
     "data": {
      "text/plain": [
       "array([113, 116, 119, 120, 121, 123, 124, 125, 127, 127, 128, 129, 130,\n",
       "       129, 129, 130, 129, 129, 129, 129, 128, 127, 127, 127, 126, 126,\n",
       "       124, 123, 115, 117, 119, 120, 122, 124, 126, 128, 129, 130, 131,\n",
       "       130, 131, 130, 130, 130, 130, 131, 130, 129, 128, 128, 128, 128,\n",
       "       127, 127, 125, 124, 117, 119, 120, 122, 123, 126, 128, 129, 129,\n",
       "       130, 129, 130, 129, 129, 131, 132, 132, 131, 131, 130, 130, 129,\n",
       "       129, 129, 128, 128, 127, 125, 118, 119, 123, 123, 125, 128, 129,\n",
       "       130, 130, 127, 150, 155, 141, 144, 135, 123, 126, 132, 133, 131,\n",
       "       130, 130, 130, 129, 129, 128, 127, 127, 118, 120, 123, 123, 127,\n",
       "       128, 129, 132, 129, 136, 175, 169, 167, 161, 150, 130, 112, 119,\n",
       "       133, 134, 130, 131, 130, 130, 130, 129, 128, 128, 117, 121, 123,\n",
       "       124, 127, 128, 129, 132, 128, 161, 169, 162, 150, 133, 120, 121,\n",
       "       126, 112,  83, 119, 137, 130, 131, 131, 131, 130, 129, 129, 119,\n",
       "       122, 124, 126, 127, 129, 131, 130, 140, 180, 161, 120,  94,  82,\n",
       "        74,  84,  96,  83,  56,  60, 114, 136, 131, 132, 131, 131, 130,\n",
       "       130, 121, 123, 125, 127, 128, 131, 133, 126, 162, 175, 150,  84,\n",
       "        53,  57,  61,  57,  68,  81,  93,  74,  53, 126, 136, 132, 133,\n",
       "       131, 131, 130, 121, 124, 126, 128, 129, 131, 130, 133, 181, 166,\n",
       "       123,  62,  47,  65,  67,  55,  60,  75,  87,  73,  59,  79, 131,\n",
       "       137, 133, 132, 131, 131, 122, 124, 127, 128, 130, 133, 127, 155,\n",
       "       182, 134,  80,  42,  40,  51,  58,  60,  63,  65,  65,  79, 101,\n",
       "        77,  93, 122, 134, 133, 131, 131, 123, 125, 128, 129, 131, 132,\n",
       "       134, 180, 165, 106,  64,  48,  53,  41,  43,  67,  64,  86,  75,\n",
       "        79,  80, 110, 103,  91, 138, 133, 133, 133, 123, 126, 128, 130,\n",
       "       134, 129, 160, 191, 152, 104,  76,  63,  61,  62,  55,  56,  96,\n",
       "       141, 125, 114, 101, 130,  83,  96, 141, 133, 134, 134, 124, 128,\n",
       "       129, 131, 134, 130, 181, 187, 143, 100,  75,  68,  60,  63,  65,\n",
       "        73, 140, 142, 143, 142, 130, 130,  75, 100, 143, 134, 135, 134,\n",
       "       126, 128, 131, 133, 133, 135, 188, 181, 136,  93,  72,  63,  57,\n",
       "        64,  60, 107, 147, 140, 141, 138, 123, 126,  78,  92, 144, 136,\n",
       "       136, 135, 126, 129, 131, 134, 132, 141, 191, 177, 135,  91,  65,\n",
       "        55,  56,  58,  54, 135, 146, 140, 145, 130, 118, 119,  85,  79,\n",
       "       139, 137, 136, 136, 126, 129, 131, 134, 131, 148, 194, 173, 139,\n",
       "        97,  65,  56,  52,  45,  35,  87, 147, 148, 146, 113, 115, 108,\n",
       "        89,  88, 138, 139, 138, 137, 127, 130, 132, 135, 130, 161, 194,\n",
       "       170, 139,  97,  66,  50,  45,  51,  58,  52,  82, 126, 119, 114,\n",
       "       122, 106,  86, 120, 141, 138, 138, 137, 128, 130, 133, 136, 130,\n",
       "       175, 192, 166, 136,  99,  68,  47,  44,  56,  64,  67,  69,  68,\n",
       "        90, 123, 124,  97, 100, 145, 140, 140, 139, 138, 129, 131, 134,\n",
       "       136, 133, 184, 188, 164, 134, 101,  70,  49,  44,  54,  61,  70,\n",
       "        87,  88,  94, 120, 103,  87, 135, 143, 141, 141, 140, 139, 128,\n",
       "       130, 134, 134, 142, 191, 181, 157, 129, 110,  73,  53,  54,  63,\n",
       "        69,  87,  99,  94,  92, 105,  86, 118, 149, 142, 143, 142, 140,\n",
       "       141, 128, 130, 134, 131, 148, 189, 173, 148, 136, 116,  71,  60,\n",
       "        66,  74,  85,  98,  98,  91,  87,  82,  92, 144, 142, 142, 141,\n",
       "       141, 141, 140, 128, 131, 134, 130, 152, 187, 165, 147, 149, 109,\n",
       "        77,  70,  66,  83,  95, 100,  91,  86,  80,  91, 133, 146, 142,\n",
       "       142, 142, 141, 141, 139, 129, 131, 134, 131, 154, 181, 161, 155,\n",
       "       153, 114,  92,  76,  65,  87,  98,  99,  87,  79,  83, 141, 148,\n",
       "       144, 145, 145, 144, 142, 142, 140, 130, 132, 135, 132, 157, 179,\n",
       "       167, 162, 158, 125,  98,  79,  67,  81,  94,  92,  85,  73, 114,\n",
       "       152, 144, 146, 145, 145, 144, 143, 141, 141, 130, 133, 136, 132,\n",
       "       165, 185, 175, 170, 159, 125,  98,  81,  71,  77,  87,  87,  78,\n",
       "        89, 145, 146, 146, 146, 145, 144, 142, 141, 141, 141, 127, 130,\n",
       "       135, 130, 168, 182, 177, 170, 146, 114,  92,  81,  75,  78,  81,\n",
       "        76,  84, 137, 150, 146, 147, 146, 145, 144, 142, 141, 141, 140,\n",
       "       128, 131, 135, 130, 171, 177, 173, 159, 126, 103,  88,  83,  80,\n",
       "        82,  80,  92, 138, 150, 147, 147, 147, 146, 145, 144, 142, 141,\n",
       "       141, 141, 100, 102,  97, 109, 181, 170, 157, 136, 110,  94,  88,\n",
       "        86,  85,  84,  78,  93, 102,  97,  99,  96,  95,  95,  95,  96,\n",
       "        95,  94,  94,  93], dtype=int64)"
      ]
     },
     "execution_count": 23,
     "metadata": {},
     "output_type": "execute_result"
    }
   ],
   "source": [
    "X_test[12]"
   ]
  },
  {
   "cell_type": "code",
   "execution_count": 25,
   "metadata": {},
   "outputs": [],
   "source": [
    "dftest = pd.read_csv('./sign_mnist_train.csv')"
   ]
  },
  {
   "cell_type": "code",
   "execution_count": 26,
   "metadata": {},
   "outputs": [
    {
     "data": {
      "text/html": [
       "<div>\n",
       "<style scoped>\n",
       "    .dataframe tbody tr th:only-of-type {\n",
       "        vertical-align: middle;\n",
       "    }\n",
       "\n",
       "    .dataframe tbody tr th {\n",
       "        vertical-align: top;\n",
       "    }\n",
       "\n",
       "    .dataframe thead th {\n",
       "        text-align: right;\n",
       "    }\n",
       "</style>\n",
       "<table border=\"1\" class=\"dataframe\">\n",
       "  <thead>\n",
       "    <tr style=\"text-align: right;\">\n",
       "      <th></th>\n",
       "      <th>label</th>\n",
       "      <th>pixel1</th>\n",
       "      <th>pixel2</th>\n",
       "      <th>pixel3</th>\n",
       "      <th>pixel4</th>\n",
       "      <th>pixel5</th>\n",
       "      <th>pixel6</th>\n",
       "      <th>pixel7</th>\n",
       "      <th>pixel8</th>\n",
       "      <th>pixel9</th>\n",
       "      <th>...</th>\n",
       "      <th>pixel775</th>\n",
       "      <th>pixel776</th>\n",
       "      <th>pixel777</th>\n",
       "      <th>pixel778</th>\n",
       "      <th>pixel779</th>\n",
       "      <th>pixel780</th>\n",
       "      <th>pixel781</th>\n",
       "      <th>pixel782</th>\n",
       "      <th>pixel783</th>\n",
       "      <th>pixel784</th>\n",
       "    </tr>\n",
       "  </thead>\n",
       "  <tbody>\n",
       "    <tr>\n",
       "      <th>0</th>\n",
       "      <td>3</td>\n",
       "      <td>107</td>\n",
       "      <td>118</td>\n",
       "      <td>127</td>\n",
       "      <td>134</td>\n",
       "      <td>139</td>\n",
       "      <td>143</td>\n",
       "      <td>146</td>\n",
       "      <td>150</td>\n",
       "      <td>153</td>\n",
       "      <td>...</td>\n",
       "      <td>207</td>\n",
       "      <td>207</td>\n",
       "      <td>207</td>\n",
       "      <td>207</td>\n",
       "      <td>206</td>\n",
       "      <td>206</td>\n",
       "      <td>206</td>\n",
       "      <td>204</td>\n",
       "      <td>203</td>\n",
       "      <td>202</td>\n",
       "    </tr>\n",
       "    <tr>\n",
       "      <th>1</th>\n",
       "      <td>6</td>\n",
       "      <td>155</td>\n",
       "      <td>157</td>\n",
       "      <td>156</td>\n",
       "      <td>156</td>\n",
       "      <td>156</td>\n",
       "      <td>157</td>\n",
       "      <td>156</td>\n",
       "      <td>158</td>\n",
       "      <td>158</td>\n",
       "      <td>...</td>\n",
       "      <td>69</td>\n",
       "      <td>149</td>\n",
       "      <td>128</td>\n",
       "      <td>87</td>\n",
       "      <td>94</td>\n",
       "      <td>163</td>\n",
       "      <td>175</td>\n",
       "      <td>103</td>\n",
       "      <td>135</td>\n",
       "      <td>149</td>\n",
       "    </tr>\n",
       "    <tr>\n",
       "      <th>2</th>\n",
       "      <td>2</td>\n",
       "      <td>187</td>\n",
       "      <td>188</td>\n",
       "      <td>188</td>\n",
       "      <td>187</td>\n",
       "      <td>187</td>\n",
       "      <td>186</td>\n",
       "      <td>187</td>\n",
       "      <td>188</td>\n",
       "      <td>187</td>\n",
       "      <td>...</td>\n",
       "      <td>202</td>\n",
       "      <td>201</td>\n",
       "      <td>200</td>\n",
       "      <td>199</td>\n",
       "      <td>198</td>\n",
       "      <td>199</td>\n",
       "      <td>198</td>\n",
       "      <td>195</td>\n",
       "      <td>194</td>\n",
       "      <td>195</td>\n",
       "    </tr>\n",
       "    <tr>\n",
       "      <th>3</th>\n",
       "      <td>2</td>\n",
       "      <td>211</td>\n",
       "      <td>211</td>\n",
       "      <td>212</td>\n",
       "      <td>212</td>\n",
       "      <td>211</td>\n",
       "      <td>210</td>\n",
       "      <td>211</td>\n",
       "      <td>210</td>\n",
       "      <td>210</td>\n",
       "      <td>...</td>\n",
       "      <td>235</td>\n",
       "      <td>234</td>\n",
       "      <td>233</td>\n",
       "      <td>231</td>\n",
       "      <td>230</td>\n",
       "      <td>226</td>\n",
       "      <td>225</td>\n",
       "      <td>222</td>\n",
       "      <td>229</td>\n",
       "      <td>163</td>\n",
       "    </tr>\n",
       "    <tr>\n",
       "      <th>4</th>\n",
       "      <td>13</td>\n",
       "      <td>164</td>\n",
       "      <td>167</td>\n",
       "      <td>170</td>\n",
       "      <td>172</td>\n",
       "      <td>176</td>\n",
       "      <td>179</td>\n",
       "      <td>180</td>\n",
       "      <td>184</td>\n",
       "      <td>185</td>\n",
       "      <td>...</td>\n",
       "      <td>92</td>\n",
       "      <td>105</td>\n",
       "      <td>105</td>\n",
       "      <td>108</td>\n",
       "      <td>133</td>\n",
       "      <td>163</td>\n",
       "      <td>157</td>\n",
       "      <td>163</td>\n",
       "      <td>164</td>\n",
       "      <td>179</td>\n",
       "    </tr>\n",
       "  </tbody>\n",
       "</table>\n",
       "<p>5 rows × 785 columns</p>\n",
       "</div>"
      ],
      "text/plain": [
       "   label  pixel1  pixel2  pixel3  pixel4  pixel5  pixel6  pixel7  pixel8  \\\n",
       "0      3     107     118     127     134     139     143     146     150   \n",
       "1      6     155     157     156     156     156     157     156     158   \n",
       "2      2     187     188     188     187     187     186     187     188   \n",
       "3      2     211     211     212     212     211     210     211     210   \n",
       "4     13     164     167     170     172     176     179     180     184   \n",
       "\n",
       "   pixel9  ...  pixel775  pixel776  pixel777  pixel778  pixel779  pixel780  \\\n",
       "0     153  ...       207       207       207       207       206       206   \n",
       "1     158  ...        69       149       128        87        94       163   \n",
       "2     187  ...       202       201       200       199       198       199   \n",
       "3     210  ...       235       234       233       231       230       226   \n",
       "4     185  ...        92       105       105       108       133       163   \n",
       "\n",
       "   pixel781  pixel782  pixel783  pixel784  \n",
       "0       206       204       203       202  \n",
       "1       175       103       135       149  \n",
       "2       198       195       194       195  \n",
       "3       225       222       229       163  \n",
       "4       157       163       164       179  \n",
       "\n",
       "[5 rows x 785 columns]"
      ]
     },
     "execution_count": 26,
     "metadata": {},
     "output_type": "execute_result"
    }
   ],
   "source": [
    "dftest.head()"
   ]
  },
  {
   "cell_type": "code",
   "execution_count": 27,
   "metadata": {},
   "outputs": [],
   "source": [
    "dftest['label'] = dftest['label'].map(mapping)"
   ]
  },
  {
   "cell_type": "code",
   "execution_count": 28,
   "metadata": {},
   "outputs": [
    {
     "data": {
      "text/plain": [
       "0        D\n",
       "1        G\n",
       "2        C\n",
       "3        C\n",
       "4        N\n",
       "        ..\n",
       "27450    N\n",
       "27451    X\n",
       "27452    S\n",
       "27453    R\n",
       "27454    X\n",
       "Name: label, Length: 27455, dtype: object"
      ]
     },
     "execution_count": 28,
     "metadata": {},
     "output_type": "execute_result"
    }
   ],
   "source": [
    "dftest['label']"
   ]
  },
  {
   "cell_type": "code",
   "execution_count": 30,
   "metadata": {},
   "outputs": [
    {
     "name": "stdout",
     "output_type": "stream",
     "text": [
      "Sample has a label of:  D\n"
     ]
    }
   ],
   "source": [
    "sample = dftest.drop(\"label\",axis=1).values[0]\n",
    "label = dftest['label'].values[0]\n",
    "\n",
    "print(\"Sample has a label of: \",label)"
   ]
  },
  {
   "cell_type": "code",
   "execution_count": 31,
   "metadata": {},
   "outputs": [
    {
     "ename": "KeyError",
     "evalue": "0",
     "output_type": "error",
     "traceback": [
      "\u001b[1;31m---------------------------------------------------------------------------\u001b[0m",
      "\u001b[1;31mKeyError\u001b[0m                                  Traceback (most recent call last)",
      "\u001b[1;32m~\\anaconda3\\lib\\site-packages\\pandas\\core\\indexes\\base.py\u001b[0m in \u001b[0;36mget_loc\u001b[1;34m(self, key, method, tolerance)\u001b[0m\n\u001b[0;32m   2894\u001b[0m             \u001b[1;32mtry\u001b[0m\u001b[1;33m:\u001b[0m\u001b[1;33m\u001b[0m\u001b[1;33m\u001b[0m\u001b[0m\n\u001b[1;32m-> 2895\u001b[1;33m                 \u001b[1;32mreturn\u001b[0m \u001b[0mself\u001b[0m\u001b[1;33m.\u001b[0m\u001b[0m_engine\u001b[0m\u001b[1;33m.\u001b[0m\u001b[0mget_loc\u001b[0m\u001b[1;33m(\u001b[0m\u001b[0mcasted_key\u001b[0m\u001b[1;33m)\u001b[0m\u001b[1;33m\u001b[0m\u001b[1;33m\u001b[0m\u001b[0m\n\u001b[0m\u001b[0;32m   2896\u001b[0m             \u001b[1;32mexcept\u001b[0m \u001b[0mKeyError\u001b[0m \u001b[1;32mas\u001b[0m \u001b[0merr\u001b[0m\u001b[1;33m:\u001b[0m\u001b[1;33m\u001b[0m\u001b[1;33m\u001b[0m\u001b[0m\n",
      "\u001b[1;32mpandas\\_libs\\index.pyx\u001b[0m in \u001b[0;36mpandas._libs.index.IndexEngine.get_loc\u001b[1;34m()\u001b[0m\n",
      "\u001b[1;32mpandas\\_libs\\index.pyx\u001b[0m in \u001b[0;36mpandas._libs.index.IndexEngine.get_loc\u001b[1;34m()\u001b[0m\n",
      "\u001b[1;32mpandas\\_libs\\hashtable_class_helper.pxi\u001b[0m in \u001b[0;36mpandas._libs.hashtable.PyObjectHashTable.get_item\u001b[1;34m()\u001b[0m\n",
      "\u001b[1;32mpandas\\_libs\\hashtable_class_helper.pxi\u001b[0m in \u001b[0;36mpandas._libs.hashtable.PyObjectHashTable.get_item\u001b[1;34m()\u001b[0m\n",
      "\u001b[1;31mKeyError\u001b[0m: 0",
      "\nThe above exception was the direct cause of the following exception:\n",
      "\u001b[1;31mKeyError\u001b[0m                                  Traceback (most recent call last)",
      "\u001b[1;32m<ipython-input-31-e49ba4e5531f>\u001b[0m in \u001b[0;36m<module>\u001b[1;34m\u001b[0m\n\u001b[1;32m----> 1\u001b[1;33m \u001b[0mdftest\u001b[0m\u001b[1;33m[\u001b[0m\u001b[1;36m0\u001b[0m\u001b[1;33m]\u001b[0m\u001b[1;33m\u001b[0m\u001b[1;33m\u001b[0m\u001b[0m\n\u001b[0m",
      "\u001b[1;32m~\\anaconda3\\lib\\site-packages\\pandas\\core\\frame.py\u001b[0m in \u001b[0;36m__getitem__\u001b[1;34m(self, key)\u001b[0m\n\u001b[0;32m   2900\u001b[0m             \u001b[1;32mif\u001b[0m \u001b[0mself\u001b[0m\u001b[1;33m.\u001b[0m\u001b[0mcolumns\u001b[0m\u001b[1;33m.\u001b[0m\u001b[0mnlevels\u001b[0m \u001b[1;33m>\u001b[0m \u001b[1;36m1\u001b[0m\u001b[1;33m:\u001b[0m\u001b[1;33m\u001b[0m\u001b[1;33m\u001b[0m\u001b[0m\n\u001b[0;32m   2901\u001b[0m                 \u001b[1;32mreturn\u001b[0m \u001b[0mself\u001b[0m\u001b[1;33m.\u001b[0m\u001b[0m_getitem_multilevel\u001b[0m\u001b[1;33m(\u001b[0m\u001b[0mkey\u001b[0m\u001b[1;33m)\u001b[0m\u001b[1;33m\u001b[0m\u001b[1;33m\u001b[0m\u001b[0m\n\u001b[1;32m-> 2902\u001b[1;33m             \u001b[0mindexer\u001b[0m \u001b[1;33m=\u001b[0m \u001b[0mself\u001b[0m\u001b[1;33m.\u001b[0m\u001b[0mcolumns\u001b[0m\u001b[1;33m.\u001b[0m\u001b[0mget_loc\u001b[0m\u001b[1;33m(\u001b[0m\u001b[0mkey\u001b[0m\u001b[1;33m)\u001b[0m\u001b[1;33m\u001b[0m\u001b[1;33m\u001b[0m\u001b[0m\n\u001b[0m\u001b[0;32m   2903\u001b[0m             \u001b[1;32mif\u001b[0m \u001b[0mis_integer\u001b[0m\u001b[1;33m(\u001b[0m\u001b[0mindexer\u001b[0m\u001b[1;33m)\u001b[0m\u001b[1;33m:\u001b[0m\u001b[1;33m\u001b[0m\u001b[1;33m\u001b[0m\u001b[0m\n\u001b[0;32m   2904\u001b[0m                 \u001b[0mindexer\u001b[0m \u001b[1;33m=\u001b[0m \u001b[1;33m[\u001b[0m\u001b[0mindexer\u001b[0m\u001b[1;33m]\u001b[0m\u001b[1;33m\u001b[0m\u001b[1;33m\u001b[0m\u001b[0m\n",
      "\u001b[1;32m~\\anaconda3\\lib\\site-packages\\pandas\\core\\indexes\\base.py\u001b[0m in \u001b[0;36mget_loc\u001b[1;34m(self, key, method, tolerance)\u001b[0m\n\u001b[0;32m   2895\u001b[0m                 \u001b[1;32mreturn\u001b[0m \u001b[0mself\u001b[0m\u001b[1;33m.\u001b[0m\u001b[0m_engine\u001b[0m\u001b[1;33m.\u001b[0m\u001b[0mget_loc\u001b[0m\u001b[1;33m(\u001b[0m\u001b[0mcasted_key\u001b[0m\u001b[1;33m)\u001b[0m\u001b[1;33m\u001b[0m\u001b[1;33m\u001b[0m\u001b[0m\n\u001b[0;32m   2896\u001b[0m             \u001b[1;32mexcept\u001b[0m \u001b[0mKeyError\u001b[0m \u001b[1;32mas\u001b[0m \u001b[0merr\u001b[0m\u001b[1;33m:\u001b[0m\u001b[1;33m\u001b[0m\u001b[1;33m\u001b[0m\u001b[0m\n\u001b[1;32m-> 2897\u001b[1;33m                 \u001b[1;32mraise\u001b[0m \u001b[0mKeyError\u001b[0m\u001b[1;33m(\u001b[0m\u001b[0mkey\u001b[0m\u001b[1;33m)\u001b[0m \u001b[1;32mfrom\u001b[0m \u001b[0merr\u001b[0m\u001b[1;33m\u001b[0m\u001b[1;33m\u001b[0m\u001b[0m\n\u001b[0m\u001b[0;32m   2898\u001b[0m \u001b[1;33m\u001b[0m\u001b[0m\n\u001b[0;32m   2899\u001b[0m         \u001b[1;32mif\u001b[0m \u001b[0mtolerance\u001b[0m \u001b[1;32mis\u001b[0m \u001b[1;32mnot\u001b[0m \u001b[1;32mNone\u001b[0m\u001b[1;33m:\u001b[0m\u001b[1;33m\u001b[0m\u001b[1;33m\u001b[0m\u001b[0m\n",
      "\u001b[1;31mKeyError\u001b[0m: 0"
     ]
    }
   ],
   "source": [
    "dftest[0]"
   ]
  },
  {
   "cell_type": "code",
   "execution_count": 36,
   "metadata": {},
   "outputs": [],
   "source": [
    "X_test = df.drop('label',axis=1).values\n",
    "y_test = df['label'].values\n",
    "\n",
    "X_test = df.drop('label',axis=1).values\n",
    "y_test = df['label'].values\n",
    "\n",
    "X_train,X_test,y_train,y_test = train_test_split(X_test,y_test,random_state=48,test_size=0.25)"
   ]
  },
  {
   "cell_type": "code",
   "execution_count": 55,
   "metadata": {},
   "outputs": [
    {
     "data": {
      "text/plain": [
       "RandomForestClassifier()"
      ]
     },
     "execution_count": 55,
     "metadata": {},
     "output_type": "execute_result"
    }
   ],
   "source": [
    "clf"
   ]
  },
  {
   "cell_type": "code",
   "execution_count": 59,
   "metadata": {},
   "outputs": [
    {
     "name": "stdout",
     "output_type": "stream",
     "text": [
      "I\n"
     ]
    },
    {
     "data": {
      "image/png": "[encoded data removed]",
      "text/plain": [
       "<Figure size 432x288 with 1 Axes>"
      ]
     },
     "metadata": {
      "needs_background": "light"
     },
     "output_type": "display_data"
    },
    {
     "name": "stdout",
     "output_type": "stream",
     "text": [
      "B\n"
     ]
    },
    {
     "data": {
      "image/png": "[encoded data removed]",
      "text/plain": [
       "<Figure size 432x288 with 1 Axes>"
      ]
     },
     "metadata": {
      "needs_background": "light"
     },
     "output_type": "display_data"
    },
    {
     "name": "stdout",
     "output_type": "stream",
     "text": [
      "X\n"
     ]
    },
    {
     "data": {
      "image/png": "[encoded data removed]",
      "text/plain": [
       "<Figure size 432x288 with 1 Axes>"
      ]
     },
     "metadata": {
      "needs_background": "light"
     },
     "output_type": "display_data"
    },
    {
     "name": "stdout",
     "output_type": "stream",
     "text": [
      "L\n"
     ]
    },
    {
     "data": {
      "image/png": "[encoded data removed]",
      "text/plain": [
       "<Figure size 432x288 with 1 Axes>"
      ]
     },
     "metadata": {
      "needs_background": "light"
     },
     "output_type": "display_data"
    },
    {
     "name": "stdout",
     "output_type": "stream",
     "text": [
      "H\n"
     ]
    },
    {
     "data": {
      "image/png": "[encoded data removed]",
      "text/plain": [
       "<Figure size 432x288 with 1 Axes>"
      ]
     },
     "metadata": {
      "needs_background": "light"
     },
     "output_type": "display_data"
    },
    {
     "name": "stdout",
     "output_type": "stream",
     "text": [
      "S\n"
     ]
    },
    {
     "data": {
      "image/png": "[encoded data removed]",
      "text/plain": [
       "<Figure size 432x288 with 1 Axes>"
      ]
     },
     "metadata": {
      "needs_background": "light"
     },
     "output_type": "display_data"
    },
    {
     "name": "stdout",
     "output_type": "stream",
     "text": [
      "L\n"
     ]
    },
    {
     "data": {
      "image/png": "[encoded data removed]",
      "text/plain": [
       "<Figure size 432x288 with 1 Axes>"
      ]
     },
     "metadata": {
      "needs_background": "light"
     },
     "output_type": "display_data"
    },
    {
     "name": "stdout",
     "output_type": "stream",
     "text": [
      "Q\n"
     ]
    },
    {
     "data": {
      "image/png": "[encoded data removed]",
      "text/plain": [
       "<Figure size 432x288 with 1 Axes>"
      ]
     },
     "metadata": {
      "needs_background": "light"
     },
     "output_type": "display_data"
    },
    {
     "name": "stdout",
     "output_type": "stream",
     "text": [
      "R\n"
     ]
    },
    {
     "data": {
      "image/png": "[encoded data removed]",
      "text/plain": [
       "<Figure size 432x288 with 1 Axes>"
      ]
     },
     "metadata": {
      "needs_background": "light"
     },
     "output_type": "display_data"
    },
    {
     "name": "stdout",
     "output_type": "stream",
     "text": [
      "V\n"
     ]
    },
    {
     "data": {
      "image/png": "[encoded data removed]",
      "text/plain": [
       "<Figure size 432x288 with 1 Axes>"
      ]
     },
     "metadata": {
      "needs_background": "light"
     },
     "output_type": "display_data"
    }
   ],
   "source": [
    "for i in X_test[:10]:\n",
    "    insert = clf.predict([i])\n",
    "    print(insert[0])\n",
    "    plot_image(i,insert[0])"
   ]
  },
  {
   "cell_type": "code",
   "execution_count": 60,
   "metadata": {},
   "outputs": [
    {
     "data": {
      "text/plain": [
       "array([133, 135, 135, 136, 136, 136, 136, 135, 135, 135, 135, 132, 134,\n",
       "       133, 132, 131, 129, 129, 129, 129, 126, 125, 124, 123, 123, 121,\n",
       "       117, 116, 134, 136, 137, 137, 138, 137, 137, 137, 137, 136, 136,\n",
       "       138, 117, 135, 134, 132, 131, 130, 129, 128, 128, 126, 125, 123,\n",
       "       122, 120, 117, 115, 136, 138, 138, 138, 139, 138, 138, 138, 138,\n",
       "       136, 144, 149,  90, 135, 134, 133, 133, 132, 131, 129, 129, 128,\n",
       "       126, 124, 123, 121, 119, 117, 137, 138, 140, 140, 140, 140, 139,\n",
       "       138, 140, 134, 161, 131,  87, 140, 133, 133, 133, 132, 132, 130,\n",
       "       129, 128, 127, 125, 123, 122, 121, 119, 138, 139, 141, 141, 142,\n",
       "       142, 141, 141, 140, 137, 175, 114,  91, 144, 135, 135, 135, 133,\n",
       "       133, 131, 130, 131, 129, 126, 124, 123, 122, 121, 140, 141, 142,\n",
       "       142, 143, 143, 141, 142, 140, 144, 177, 102, 106, 143, 137, 138,\n",
       "       136, 134, 134, 132, 131, 131, 130, 128, 125, 123, 123, 121, 142,\n",
       "       143, 144, 144, 144, 144, 143, 144, 139, 155, 169,  89, 114, 153,\n",
       "       132, 128, 136, 136, 135, 133, 132, 131, 130, 129, 126, 124, 123,\n",
       "       121, 143, 144, 145, 145, 145, 145, 145, 146, 140, 168, 167,  94,\n",
       "       125, 180, 135,  97, 135, 132, 136, 136, 134, 132, 132, 129, 127,\n",
       "       124, 123, 122, 143, 145, 146, 147, 146, 146, 147, 147, 142, 175,\n",
       "       162,  99, 157, 183, 138, 111, 151, 113, 105, 127, 128, 126,  99,\n",
       "       128, 129, 126, 124, 123, 145, 147, 148, 148, 149, 148, 148, 146,\n",
       "       146, 174, 151, 114, 175, 184, 131, 121, 152, 126,  74,  95, 115,\n",
       "       128,  67, 124, 131, 127, 126, 124, 146, 149, 149, 148, 149, 149,\n",
       "       150, 145, 159, 165, 152, 149, 161, 183, 126, 129, 153, 120,  85,\n",
       "       116, 120, 148,  66, 118, 134, 127, 125, 125, 148, 149, 149, 149,\n",
       "       149, 151, 149, 149, 174, 140, 156, 146, 163, 175, 109, 134, 157,\n",
       "       109, 110, 119, 116, 154,  97, 104, 136, 128, 127, 125, 148, 149,\n",
       "       150, 150, 150, 152, 148, 164, 178, 113, 136, 134, 141, 158,  92,\n",
       "       142, 150, 105, 129, 103, 104, 148, 124,  85, 124, 132, 129, 128,\n",
       "       150, 150, 151, 152, 151, 152, 147, 180, 186, 105, 106, 112, 125,\n",
       "       148,  93, 158, 135,  98, 138,  90,  91, 153, 117,  75, 123, 133,\n",
       "       130, 129, 150, 151, 152, 153, 154, 154, 152, 194, 184, 110,  94,\n",
       "        97, 116, 146, 111, 163, 119,  96, 130,  76, 126, 149,  94,  87,\n",
       "       138, 131, 131, 128, 151, 152, 154, 154, 155, 152, 162, 198, 176,\n",
       "       106,  87, 100,  87, 104, 139, 157,  86, 119, 119, 110, 151, 112,\n",
       "        73, 114, 138, 132, 131, 129, 153, 154, 155, 155, 156, 151, 173,\n",
       "       201, 171, 102,  89,  99,  84, 113, 157, 143, 118, 142, 125, 133,\n",
       "       131,  81,  80, 139, 135, 133, 132, 130, 150, 152, 154, 154, 156,\n",
       "       150, 181, 201, 162, 115, 103, 106, 126, 154, 163, 158, 160, 141,\n",
       "       123, 116, 121,  67,  97, 142, 134, 133, 132, 130, 153, 154, 154,\n",
       "       154, 156, 152, 185, 197, 161, 130, 106, 122, 169, 174, 176, 167,\n",
       "       144, 130, 122,  96, 101,  69, 119, 139, 134, 134, 132, 130, 154,\n",
       "       155, 155, 155, 157, 152, 182, 196, 167, 136, 122, 133, 179, 179,\n",
       "       179, 159, 142, 130, 107,  82,  70, 103, 142, 136, 135, 134, 135,\n",
       "       139, 154, 154, 155, 155, 157, 153, 187, 191, 164, 143, 135, 151,\n",
       "       181, 176, 169, 145, 130, 117,  88,  63,  93, 143, 138, 139, 141,\n",
       "       146, 129, 131, 153, 153, 155, 155, 155, 157, 190, 176, 161, 148,\n",
       "       143, 163, 172, 159, 152, 132, 113,  95,  67,  85, 141, 143, 147,\n",
       "       151, 142, 124, 111, 101, 157, 159, 160, 162, 161, 163, 185, 169,\n",
       "       167, 156, 150, 162, 155, 141, 128, 114, 101,  76,  78, 144, 155,\n",
       "       151, 139, 128, 117, 122, 109,  94, 127, 127, 127, 129, 121, 146,\n",
       "       193, 173, 172, 159, 153, 160, 145, 124, 107, 105,  84,  60, 138,\n",
       "       169, 150, 128, 122, 125, 110, 112, 135,  82,  69,  68,  70,  74,\n",
       "        58, 127, 206, 179, 171, 160, 156, 156, 138, 104,  96,  84,  76,\n",
       "       137, 172, 149, 150, 101, 137, 134, 105,  77, 127, 109,  80,  79,\n",
       "        77,  80,  65, 146, 206, 179, 169, 164, 151, 150, 121,  90,  80,\n",
       "        82, 162, 173, 154, 141, 143, 102, 110, 147, 112,  67, 103, 121,\n",
       "        83,  84,  82,  83,  64, 156, 200, 171, 166, 163, 142, 142, 109,\n",
       "        82,  66, 151, 169, 148, 165, 146, 125, 112,  73, 133, 129,  71,\n",
       "        81, 111,  77,  76,  79,  81,  67, 165, 193, 163, 163, 158, 132,\n",
       "       132, 100,  68,  91, 178, 139, 157, 166, 130, 132, 107,  65,  99,\n",
       "       135,  86,  63,  95], dtype=int64)"
      ]
     },
     "execution_count": 60,
     "metadata": {},
     "output_type": "execute_result"
    }
   ],
   "source": [
    "X_test[0]"
   ]
  },
  {
   "cell_type": "code",
   "execution_count": 63,
   "metadata": {},
   "outputs": [],
   "source": [
    "img = load_img(\"images/unknown.jpg\")"
   ]
  },
  {
   "cell_type": "code",
   "execution_count": 64,
   "metadata": {},
   "outputs": [
    {
     "data": {
      "image/png": "[encoded data removed]",
      "text/plain": [
       "<PIL.JpegImagePlugin.JpegImageFile image mode=RGB size=260x357 at 0x1BC60F38DF0>"
      ]
     },
     "execution_count": 64,
     "metadata": {},
     "output_type": "execute_result"
    }
   ],
   "source": [
    "img"
   ]
  },
  {
   "cell_type": "code",
   "execution_count": 66,
   "metadata": {},
   "outputs": [],
   "source": [
    "x = np.expand_dims(img,axis=1)"
   ]
  },
  {
   "cell_type": "code",
   "execution_count": 71,
   "metadata": {},
   "outputs": [],
   "source": [
    "x = np.stack(x,axis=1)"
   ]
  },
  {
   "cell_type": "code",
   "execution_count": 72,
   "metadata": {},
   "outputs": [
    {
     "data": {
      "text/plain": [
       "array([[[255, 255, 255],\n",
       "        [255, 255, 255],\n",
       "        [255, 255, 255],\n",
       "        ...,\n",
       "        [254, 254, 254],\n",
       "        [254, 254, 254],\n",
       "        [254, 254, 254]],\n",
       "\n",
       "       [[255, 255, 255],\n",
       "        [255, 255, 255],\n",
       "        [255, 255, 255],\n",
       "        ...,\n",
       "        [254, 254, 254],\n",
       "        [254, 254, 254],\n",
       "        [254, 254, 254]],\n",
       "\n",
       "       [[255, 255, 255],\n",
       "        [255, 255, 255],\n",
       "        [255, 255, 255],\n",
       "        ...,\n",
       "        [254, 254, 254],\n",
       "        [254, 254, 254],\n",
       "        [254, 254, 254]],\n",
       "\n",
       "       ...,\n",
       "\n",
       "       [[255, 255, 255],\n",
       "        [255, 255, 255],\n",
       "        [255, 255, 255],\n",
       "        ...,\n",
       "        [254, 254, 254],\n",
       "        [255, 255, 255],\n",
       "        [255, 255, 255]],\n",
       "\n",
       "       [[255, 255, 255],\n",
       "        [255, 255, 255],\n",
       "        [255, 255, 255],\n",
       "        ...,\n",
       "        [254, 254, 254],\n",
       "        [255, 255, 255],\n",
       "        [255, 255, 255]],\n",
       "\n",
       "       [[255, 255, 255],\n",
       "        [255, 255, 255],\n",
       "        [255, 255, 255],\n",
       "        ...,\n",
       "        [254, 254, 254],\n",
       "        [255, 255, 255],\n",
       "        [255, 255, 255]]], dtype=uint8)"
      ]
     },
     "execution_count": 72,
     "metadata": {},
     "output_type": "execute_result"
    }
   ],
   "source": [
    "x"
   ]
  },
  {
   "cell_type": "code",
   "execution_count": null,
   "metadata": {},
   "outputs": [],
   "source": []
  }
 ],
 "metadata": {
  "kernelspec": {
   "display_name": "Python 3",
   "language": "python",
   "name": "python3"
  },
  "language_info": {
   "codemirror_mode": {
    "name": "ipython",
    "version": 3
   },
   "file_extension": ".py",
   "mimetype": "text/x-python",
   "name": "python",
   "nbconvert_exporter": "python",
   "pygments_lexer": "ipython3",
   "version": "3.8.5"
  }
 },
 "nbformat": 4,
 "nbformat_minor": 4
}
